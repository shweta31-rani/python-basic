{
  "nbformat": 4,
  "nbformat_minor": 0,
  "metadata": {
    "colab": {
      "provenance": []
    },
    "kernelspec": {
      "name": "python3",
      "display_name": "Python 3"
    },
    "language_info": {
      "name": "python"
    }
  },
  "cells": [
    {
      "cell_type": "code",
      "execution_count": null,
      "metadata": {
        "id": "ydatyYnhB2ht"
      },
      "outputs": [],
      "source": []
    },
    {
      "cell_type": "markdown",
      "source": [
        "  **1.What is Python, and why is it popular ?**"
      ],
      "metadata": {
        "id": "smLQS36RCCqG"
      }
    },
    {
      "cell_type": "markdown",
      "source": [
        "Ans:Python is a popular high level programming language used for many tasks such as web development,game development and data science.\n",
        "\n",
        "\n",
        "It is popular because:\n",
        "\n",
        "1.Easy to learn.\n",
        "\n",
        "\n",
        "2.It is free and open source language.\n",
        "\n",
        "\n",
        "3.Python has rich library of predefined functions.\n",
        "\n",
        "\n",
        "4.Helpful for game and web development.\n",
        "\n"
      ],
      "metadata": {
        "id": "6-9prU6zCTMT"
      }
    },
    {
      "cell_type": "markdown",
      "source": [
        "**2. What is an interpreter in Python ?**"
      ],
      "metadata": {
        "id": "XzH1GNXWEM_s"
      }
    },
    {
      "cell_type": "markdown",
      "source": [
        "Ans:In Python, an interpreter is a program that reads and executes Python code line by line and translating it into machine-readable instructions for the computer to understand."
      ],
      "metadata": {
        "id": "0Q-RblXCEiO6"
      }
    },
    {
      "cell_type": "markdown",
      "source": [
        "**3. What are pre-defined keywords in Python ?**"
      ],
      "metadata": {
        "id": "Edcrue12E3tD"
      }
    },
    {
      "cell_type": "markdown",
      "source": [
        "Ans:Keywords are the words that have some special meaning or significance in a programming language.They cannot be used as variables names,function nameor any random purpose.Some of the keywords are - try,True,False,and,or,in,if,else,elif etc.\n"
      ],
      "metadata": {
        "id": "sj-CA0VlE_QS"
      }
    },
    {
      "cell_type": "markdown",
      "source": [
        "** **4.Can keywords be used as variable name **?**"
      ],
      "metadata": {
        "id": "TLeVjCDwGx77"
      }
    },
    {
      "cell_type": "markdown",
      "source": [
        "Ans:No, keywords cannot be used as variable name because keywords are reserved words i.e. predefined meaning."
      ],
      "metadata": {
        "id": "w-F-yFuVG6RK"
      }
    },
    {
      "cell_type": "markdown",
      "source": [
        "**5. What is mutability in Python?**"
      ],
      "metadata": {
        "id": "jv5t__9HHuQb"
      }
    },
    {
      "cell_type": "markdown",
      "source": [
        "Ans:Mutability means an object  is changed after creation  while immutability means an object cannot be altered once created. Mutable objects (like lists, dictionaries, and sets) allow modifications, while immutable objects (like strings, tuples, and numbers) do not.\n"
      ],
      "metadata": {
        "id": "Ry1B006tH4gb"
      }
    },
    {
      "cell_type": "markdown",
      "source": [
        "**6. Why are lists mutable, but tuples are immutable ?**\n"
      ],
      "metadata": {
        "id": "wsx5QtQcIgC6"
      }
    },
    {
      "cell_type": "markdown",
      "source": [
        "Ans:The objects of lists can be changed after creation thats why lists are mutable while content of tuple cannot be changed after creation so called immutable."
      ],
      "metadata": {
        "id": "Zn_Lq_oWImuT"
      }
    },
    {
      "cell_type": "markdown",
      "source": [
        "** 7.What is the difference between “==” and “is” operators in Python ?**"
      ],
      "metadata": {
        "id": "kq5OlCksKeFr"
      }
    },
    {
      "cell_type": "markdown",
      "source": [
        "Ans: Equality Operator(==)-f\n",
        "\n",
        "\n",
        "Compares the values of two objects. -f\n",
        "\n",
        "-Returns True if the objects have the same content, and False otherwise.\n",
        "\n",
        "is operator -f\n",
        "\n",
        "Compares the identity of two objects (whether they are the same object in memory).\n",
        "Returns True if both variables refer to the same object, and False otherwise.\n",
        "\n",
        "\n"
      ],
      "metadata": {
        "id": "LW5pB9eWKmqy"
      }
    },
    {
      "cell_type": "markdown",
      "source": [
        "**8. What are logical operators in Python ?**"
      ],
      "metadata": {
        "id": "O36I0KZmMLRz"
      }
    },
    {
      "cell_type": "markdown",
      "source": [
        "Ans:Logical operators in Python:-f\n",
        "\n",
        "and,or,not\n",
        "-f\n",
        "\n",
        "It is used to combine conditional statements.-f\n",
        "\n",
        "And: True if both operands are true.-f\n",
        "\n",
        "or:True if either one of the operands is true.-f\n",
        "\n",
        "not:True if the operand is false.\n"
      ],
      "metadata": {
        "id": "1ydtaNcIMUMS"
      }
    },
    {
      "cell_type": "markdown",
      "source": [
        "**9. What is type casting in Python?**"
      ],
      "metadata": {
        "id": "HhPoeFgZN8Gj"
      }
    },
    {
      "cell_type": "markdown",
      "source": [
        "Ans:In Python type casting is the process of converting a variable's data type from one type to another like int to float and float to int.\n",
        "-f\n",
        "\n",
        "Types of type casting:\n",
        "-f\n",
        "\n",
        "Implicit typecasting:Python can sometimes automatically convert data types during operations.\n",
        "-f\n",
        "\n",
        "Explicit typecasting:Python user converts one data type to another."
      ],
      "metadata": {
        "id": "0I358tByOFoq"
      }
    },
    {
      "cell_type": "markdown",
      "source": [
        "**10. What is the difference between implicit and explicit type casting?**"
      ],
      "metadata": {
        "id": "-IsvCqu1PwVs"
      }
    },
    {
      "cell_type": "markdown",
      "source": [
        "Ans:Implicit typecasting:Python can sometimes automatically convert data types during operations.\n",
        "-f\n",
        "\n",
        "Example:\n",
        "\n",
        "a=5\n",
        "\n",
        "\n",
        "b=5.5\n",
        "\n",
        "\n",
        "c=a+b\n",
        "\n",
        "\n",
        "print(c)\n",
        "\n",
        "\n",
        "Explicit typecasting:Python user converts one data type to another.-f\n",
        "\n",
        "a=5-f\n",
        "\n",
        "b=5.5-f\n",
        "\n",
        "c=a+int(b)-f\n",
        "\n",
        "print(c)\n",
        "\n",
        "\n"
      ],
      "metadata": {
        "id": "dS2EPaTYP5dz"
      }
    },
    {
      "cell_type": "markdown",
      "source": [
        "**11.What is the purpose of conditional statements in Python ?**"
      ],
      "metadata": {
        "id": "oa8jg2jXq_2b"
      }
    },
    {
      "cell_type": "markdown",
      "source": [
        "Ans:Conditional statements in Python are used to execute certain blocks of code based on specific conditions. These statements help to  control the flow of a program, making it behave differently in different situations.-f\n",
        "\n",
        "Conditional statements in Python are:-f\n",
        "\n",
        "if statement,elif statement, if-else statement and nested if statement."
      ],
      "metadata": {
        "id": "aoRAt0J0rVdQ"
      }
    },
    {
      "cell_type": "markdown",
      "source": [
        " **12.How does the elif statement work ?**"
      ],
      "metadata": {
        "id": "axxUJ4uCsnNR"
      }
    },
    {
      "cell_type": "markdown",
      "source": [
        "Ans:The elif statement in conditional statement used to check multiple conditions. It works as the first condition is false, it moves on to the next “elif” statement to check if that condition is true.If none of the conditions are true, the code will execute the else statement.-f\n",
        "\n",
        "Syntax-f\n",
        "\n",
        "if condtion1:-f\n",
        "\n",
        "   execute code of condition1 is true\n",
        "   -f\n",
        "   elif condition2:-f\n",
        "\n",
        "   execute code if condition2 is true-f\n",
        "\n",
        "   else: -f\n",
        "\n",
        "   execute code if all conditions are false\n",
        "\n",
        "\n",
        "    "
      ],
      "metadata": {
        "id": "t-FX2LGcsxEw"
      }
    },
    {
      "cell_type": "markdown",
      "source": [
        "**13. What is the difference between for and while loops ?**"
      ],
      "metadata": {
        "id": "A1RVRvVnvLSp"
      }
    },
    {
      "cell_type": "markdown",
      "source": [
        "Ans:Both for loop and while loop are control flow structures but they are differ in syntax and their uses case.\n",
        "-f\n",
        "\n",
        "For loop\n",
        "-f\n",
        "\n",
        "A for loop is used when you know in advance how many times you want to execute the block of code. It iterates over a sequence and executes the block of code for each item in the sequence.\n",
        "-f\n",
        "\n",
        " for(initialization; condition; iteration)\n",
        " {\n",
        "   //body of the 'for' loop\n",
        "}\n",
        "  -f\n",
        "\n",
        "  While loop\n",
        "  -f\n",
        "\n",
        " A while loop is used when you don’t know in advance how many times you want to execute the block of code. It continues to execute as long as the specified condition is true.\n",
        " -f\n",
        "\n",
        "while(condition):\n",
        "   #execute the block of code if condition is true\n",
        "    \n"
      ],
      "metadata": {
        "id": "XK3Exp6ovTHA"
      }
    },
    {
      "cell_type": "markdown",
      "source": [
        "**14.Describe a scenario where a while loop is more suitable than a for loop.**"
      ],
      "metadata": {
        "id": "WwqLC59nQx0E"
      }
    },
    {
      "cell_type": "markdown",
      "source": [
        "Ans:In programing for loop is used when the number of iterations is known whereas while loop is used when we do not know the number of iterations ."
      ],
      "metadata": {
        "id": "wRJJCn91SV6C"
      }
    },
    {
      "cell_type": "markdown",
      "source": [
        "**pratical questions**"
      ],
      "metadata": {
        "id": "0vv3v9QqY3VY"
      }
    },
    {
      "cell_type": "markdown",
      "source": [
        "**1 Write a Python program to print \"Hello, World!\"**"
      ],
      "metadata": {
        "id": "Uu4NNA6IZO2z"
      }
    },
    {
      "cell_type": "code",
      "source": [
        "print(\"Hello, World!\")"
      ],
      "metadata": {
        "colab": {
          "base_uri": "https://localhost:8080/"
        },
        "id": "FjFZ1CNrZcXs",
        "outputId": "8e9dcf91-81e6-40bc-fd9b-9d3008a13735"
      },
      "execution_count": null,
      "outputs": [
        {
          "output_type": "stream",
          "name": "stdout",
          "text": [
            "Hello, World!\n"
          ]
        }
      ]
    },
    {
      "cell_type": "markdown",
      "source": [
        "**2 Write a Python program that displays your name and age.**"
      ],
      "metadata": {
        "id": "KEp2ucyidMRl"
      }
    },
    {
      "cell_type": "code",
      "source": [
        "name=\"shweta\"\n",
        "print(name)\n",
        "age=21\n",
        "print(age)"
      ],
      "metadata": {
        "colab": {
          "base_uri": "https://localhost:8080/"
        },
        "id": "quCzZA2ddWaT",
        "outputId": "2ca03f25-16e2-4a32-8db6-1ab8b6ac2dd2"
      },
      "execution_count": null,
      "outputs": [
        {
          "output_type": "stream",
          "name": "stdout",
          "text": [
            "shweta\n",
            "21\n"
          ]
        }
      ]
    },
    {
      "cell_type": "markdown",
      "source": [
        " **3.Write code to print all the pre-defined keywords in Python using the keyword library**."
      ],
      "metadata": {
        "id": "b6-1VleIbZur"
      }
    },
    {
      "cell_type": "code",
      "source": [
        "import keyword\n",
        "print(\"list of python keywords are:\")\n",
        "print(keyword.kwlist)"
      ],
      "metadata": {
        "colab": {
          "base_uri": "https://localhost:8080/"
        },
        "id": "N2Hw2qKBbkXc",
        "outputId": "644264a7-dd94-42b3-c251-bfe4d5e6722d"
      },
      "execution_count": null,
      "outputs": [
        {
          "output_type": "stream",
          "name": "stdout",
          "text": [
            "list of python keywords are:\n",
            "['False', 'None', 'True', 'and', 'as', 'assert', 'async', 'await', 'break', 'class', 'continue', 'def', 'del', 'elif', 'else', 'except', 'finally', 'for', 'from', 'global', 'if', 'import', 'in', 'is', 'lambda', 'nonlocal', 'not', 'or', 'pass', 'raise', 'return', 'try', 'while', 'with', 'yield']\n"
          ]
        }
      ]
    },
    {
      "cell_type": "markdown",
      "source": [
        " **4.Write a program that checks if a given word is a Python keyword**"
      ],
      "metadata": {
        "id": "Ior3guVtdmHP"
      }
    },
    {
      "cell_type": "code",
      "source": [
        "import keyword\n",
        "\n",
        "s = 'for'\n",
        "\n",
        "# Check if it's a Python keyword\n",
        "if keyword.iskeyword(s):\n",
        "    print(f\"'{s}' is a Python keyword.\")\n",
        "else:\n",
        "    print(f\"'{s}' is not a Python keyword.\")"
      ],
      "metadata": {
        "colab": {
          "base_uri": "https://localhost:8080/"
        },
        "id": "hKrnTMV7drjW",
        "outputId": "ebaef2f6-a005-4726-8dd9-b046fdb7a991"
      },
      "execution_count": null,
      "outputs": [
        {
          "output_type": "stream",
          "name": "stdout",
          "text": [
            "'for' is a Python keyword.\n"
          ]
        }
      ]
    },
    {
      "cell_type": "markdown",
      "source": [
        "**5.Create a list and tuple in Python, and demonstrate how attempting to change an element works differently for each.**"
      ],
      "metadata": {
        "id": "XYsHpa5Re9P4"
      }
    },
    {
      "cell_type": "code",
      "source": [
        "list1=[\"apple\",\"papaya\",\"orange\"]\n",
        "#change element in list\n",
        "list[1]=\"grapes\"\n",
        "print(list)\n",
        "#change element in tuple\n",
        "x = (\"apple\", \"banana\", \"cherry\")\n",
        "y = list(x)\n",
        "y[1] = \"kiwi\"\n",
        "x = tuple(y)\n",
        "\n",
        "print(x)\n",
        "\n"
      ],
      "metadata": {
        "colab": {
          "base_uri": "https://localhost:8080/",
          "height": 234
        },
        "id": "WFG3YWIgfJs9",
        "outputId": "0f30d4a3-6547-4ad7-96d2-d2ee3c3bfb34"
      },
      "execution_count": null,
      "outputs": [
        {
          "output_type": "stream",
          "name": "stdout",
          "text": [
            "['apple', 'grapes', 'orange']\n"
          ]
        },
        {
          "output_type": "error",
          "ename": "TypeError",
          "evalue": "'list' object is not callable",
          "traceback": [
            "\u001b[0;31m---------------------------------------------------------------------------\u001b[0m",
            "\u001b[0;31mTypeError\u001b[0m                                 Traceback (most recent call last)",
            "\u001b[0;32m<ipython-input-22-e3ce279fce31>\u001b[0m in \u001b[0;36m<cell line: 0>\u001b[0;34m()\u001b[0m\n\u001b[1;32m      5\u001b[0m \u001b[0;31m#change element in tuple\u001b[0m\u001b[0;34m\u001b[0m\u001b[0;34m\u001b[0m\u001b[0m\n\u001b[1;32m      6\u001b[0m \u001b[0mx\u001b[0m \u001b[0;34m=\u001b[0m \u001b[0;34m(\u001b[0m\u001b[0;34m\"apple\"\u001b[0m\u001b[0;34m,\u001b[0m \u001b[0;34m\"banana\"\u001b[0m\u001b[0;34m,\u001b[0m \u001b[0;34m\"cherry\"\u001b[0m\u001b[0;34m)\u001b[0m\u001b[0;34m\u001b[0m\u001b[0;34m\u001b[0m\u001b[0m\n\u001b[0;32m----> 7\u001b[0;31m \u001b[0my\u001b[0m \u001b[0;34m=\u001b[0m \u001b[0mlist\u001b[0m\u001b[0;34m(\u001b[0m\u001b[0mx\u001b[0m\u001b[0;34m)\u001b[0m\u001b[0;34m\u001b[0m\u001b[0;34m\u001b[0m\u001b[0m\n\u001b[0m\u001b[1;32m      8\u001b[0m \u001b[0my\u001b[0m\u001b[0;34m[\u001b[0m\u001b[0;36m1\u001b[0m\u001b[0;34m]\u001b[0m \u001b[0;34m=\u001b[0m \u001b[0;34m\"kiwi\"\u001b[0m\u001b[0;34m\u001b[0m\u001b[0;34m\u001b[0m\u001b[0m\n\u001b[1;32m      9\u001b[0m \u001b[0mx\u001b[0m \u001b[0;34m=\u001b[0m \u001b[0mtuple\u001b[0m\u001b[0;34m(\u001b[0m\u001b[0my\u001b[0m\u001b[0;34m)\u001b[0m\u001b[0;34m\u001b[0m\u001b[0;34m\u001b[0m\u001b[0m\n",
            "\u001b[0;31mTypeError\u001b[0m: 'list' object is not callable"
          ]
        }
      ]
    },
    {
      "cell_type": "markdown",
      "source": [
        "Thus tuples are immutable means once created their elements cannot be changed."
      ],
      "metadata": {
        "id": "xPRLLoF1_LFP"
      }
    },
    {
      "cell_type": "markdown",
      "source": [
        " **6.Write a function to demonstrate the behavior of mutable and immutable arguments**"
      ],
      "metadata": {
        "id": "zyKsf5kUOaz0"
      }
    },
    {
      "cell_type": "code",
      "source": [
        "def modify_arguments(lst, tpl):\n",
        "    print(\"Original list:\", lst)\n",
        "    print(\"Original tuple:\", tpl)\n",
        "\n",
        "    # Modifying the mutable list argument\n",
        "    lst.append(6)  # Adds an element to the list\n",
        "\n",
        "    # Trying to modify the immutable tuple argument\n",
        "    try:\n",
        "        tpl[0] = 10  # Trying to change the first element of the tuple\n",
        "    except TypeError as e:\n",
        "        print(\"Error modifying tuple:\", e)\n",
        "\n",
        "    print(\"Modified list:\", lst)\n",
        "    print(\"Attempted modification on tuple:\", tpl)\n",
        "\n",
        "\n",
        "# Testing the function with mutable and immutable arguments\n",
        "my_list = [1, 2, 3]\n",
        "my_tuple = (1, 2, 3)\n",
        "\n",
        "# Passing a mutable list and an immutable tuple\n",
        "modify_arguments(my_list, my_tuple)\n",
        "\n",
        "# Output after the function call\n",
        "print(\"\\nAfter function call:\")\n",
        "print(\"List outside function:\", my_list)\n",
        "print(\"Tuple outside function:\", my_tuple)"
      ],
      "metadata": {
        "id": "LUbx7AJdPWjo",
        "colab": {
          "base_uri": "https://localhost:8080/"
        },
        "outputId": "9e97a216-3835-43a6-c2d2-b46c610ce90b"
      },
      "execution_count": null,
      "outputs": [
        {
          "output_type": "stream",
          "name": "stdout",
          "text": [
            "Original list: [1, 2, 3]\n",
            "Original tuple: (1, 2, 3)\n",
            "Error modifying tuple: 'tuple' object does not support item assignment\n",
            "Modified list: [1, 2, 3, 6]\n",
            "Attempted modification on tuple: (1, 2, 3)\n",
            "\n",
            "After function call:\n",
            "List outside function: [1, 2, 3, 6]\n",
            "Tuple outside function: (1, 2, 3)\n"
          ]
        }
      ]
    },
    {
      "cell_type": "markdown",
      "source": [
        "**7. Write a program that performs basic arithmetic operations on two user-input numbers.**"
      ],
      "metadata": {
        "id": "BGM4KQne_8IC"
      }
    },
    {
      "cell_type": "code",
      "source": [
        "# Function to perform basic arithmetic operations\n",
        "def arithmetic_operations():\n",
        "    # Taking user input for two numbers\n",
        "    num1 = float(input(\"Enter the first number: \"))\n",
        "    num2 = float(input(\"Enter the second number: \"))\n",
        "\n",
        "    # Performing the operations and displaying the results\n",
        "    print(f\"\\nOperations on {num1} and {num2}:\")\n",
        "\n",
        "    # Addition\n",
        "    addition = num1 + num2\n",
        "    print(f\"Addition: {num1} + {num2} = {addition}\")\n",
        "\n",
        "    # Subtraction\n",
        "    subtraction = num1 - num2\n",
        "    print(f\"Subtraction: {num1} - {num2} = {subtraction}\")\n",
        "\n",
        "    # Multiplication\n",
        "    multiplication = num1 * num2\n",
        "    print(f\"Multiplication: {num1} * {num2} = {multiplication}\")\n",
        "\n",
        "    # Division (with error handling for division by zero)\n",
        "    if num2 != 0:\n",
        "        division = num1 / num2\n",
        "        print(f\"Division: {num1} / {num2} = {division}\")\n",
        "    else:\n",
        "        print(\"Error: Cannot divide by zero!\")\n",
        "\n",
        "# Call the function\n",
        "arithmetic_operations()\n"
      ],
      "metadata": {
        "colab": {
          "base_uri": "https://localhost:8080/"
        },
        "id": "2gF6SRdFAKgg",
        "outputId": "2fe66639-4239-4af9-995f-3c1bdb566de7"
      },
      "execution_count": null,
      "outputs": [
        {
          "output_type": "stream",
          "name": "stdout",
          "text": [
            "Enter the first number: 21\n",
            "Enter the second number: 56\n",
            "\n",
            "Operations on 21.0 and 56.0:\n",
            "Addition: 21.0 + 56.0 = 77.0\n",
            "Subtraction: 21.0 - 56.0 = -35.0\n",
            "Multiplication: 21.0 * 56.0 = 1176.0\n",
            "Division: 21.0 / 56.0 = 0.375\n"
          ]
        }
      ]
    },
    {
      "cell_type": "markdown",
      "source": [
        "**8. Write a program to demonstrate the use of logical operators.**"
      ],
      "metadata": {
        "id": "syZLB_p9DEMQ"
      }
    },
    {
      "cell_type": "code",
      "source": [
        "def logical_op():\n",
        "  x=int(input(\"enter a value for bool\"))\n",
        "  y=int(input(\"enter a value for bool\"))\n",
        "\n",
        "  if x and y:\n",
        "    print(\"both x and y are true\")\n",
        "  else:\n",
        "    print(\"at least one of them is false\")\n",
        "  # or operator\n",
        "  if x or y:\n",
        "    print(\"at least one of them is true\")\n",
        "  else:\n",
        "    print(\"both are false\")\n",
        "  # not operator\n",
        "  if not x:\n",
        "    print(\"x is False (NOT x)\")\n",
        "  else:\n",
        "        print(\"x is True (NOT x)\")\n",
        "logical_op()"
      ],
      "metadata": {
        "colab": {
          "base_uri": "https://localhost:8080/"
        },
        "id": "lFovVYFgDM9s",
        "outputId": "a5f1ad92-5386-4681-8fbf-d889a63052db"
      },
      "execution_count": null,
      "outputs": [
        {
          "output_type": "stream",
          "name": "stdout",
          "text": [
            "enter a value for bool1\n",
            "enter a value for bool0\n",
            "at least one of them is false\n",
            "at least one of them is true\n",
            "x is True (NOT x)\n"
          ]
        }
      ]
    },
    {
      "cell_type": "markdown",
      "source": [
        "**9.Write a Python program to convert user input from string to integer, float, and boolean types.**"
      ],
      "metadata": {
        "id": "feSSLOKCHLUU"
      }
    },
    {
      "cell_type": "code",
      "source": [
        "str=input(\"enter a string:\")\n",
        "new_str=int(str)\n",
        "print(new_str)\n",
        "float_str=float(str)\n",
        "print(float_str)\n",
        "bool_str=bool(str)\n",
        "print(bool_str)"
      ],
      "metadata": {
        "colab": {
          "base_uri": "https://localhost:8080/"
        },
        "id": "7FHLlsOyIBJ7",
        "outputId": "8390ba17-10ec-4f0a-e1ee-e669367feca7"
      },
      "execution_count": null,
      "outputs": [
        {
          "output_type": "stream",
          "name": "stdout",
          "text": [
            "enter a string:4265\n",
            "4265\n",
            "4265.0\n",
            "True\n"
          ]
        }
      ]
    },
    {
      "cell_type": "markdown",
      "source": [
        "**10. Write code to demonstrate type casting with list elements.**"
      ],
      "metadata": {
        "id": "iEXp_cbeJHi3"
      }
    },
    {
      "cell_type": "code",
      "source": [
        "my_list = ['123', '45.67', 'True', '89.4','24']\n",
        "\n",
        "# Type casting elements in the list to different types\n",
        "int_list = [int(i) if i.isdigit() else 0 for i in my_list]\n",
        "float_list = [float(i) if i.replace('.', '', 1).isdigit() else 0.0 for i in my_list]\n",
        "bool_list = [True if i.lower() == 'true' else False for i in my_list]\n",
        "\n",
        "# Print the original list and the converted lists\n",
        "print(\"Original list:\", my_list)\n",
        "print(\"List after type casting to integers:\", int_list)\n",
        "print(\"List after type casting to floats:\", float_list)\n",
        "print(\"List after type casting to booleans:\", bool_list)"
      ],
      "metadata": {
        "colab": {
          "base_uri": "https://localhost:8080/"
        },
        "id": "fHhfd2bFJM57",
        "outputId": "abb0e80a-1783-4e07-fc5b-027fa922cb38"
      },
      "execution_count": null,
      "outputs": [
        {
          "output_type": "stream",
          "name": "stdout",
          "text": [
            "Original list: ['123', '45.67', 'True', '89.4', '24']\n",
            "List after type casting to integers: [123, 0, 0, 0, 24]\n",
            "List after type casting to floats: [123.0, 45.67, 0.0, 89.4, 24.0]\n",
            "List after type casting to booleans: [False, False, True, False, False]\n"
          ]
        }
      ]
    },
    {
      "cell_type": "markdown",
      "source": [
        "**11. Write a program that checks if a number is positive, negative, or zero.**"
      ],
      "metadata": {
        "id": "JbiftAZ29H_b"
      }
    },
    {
      "cell_type": "code",
      "source": [
        "num= int(input(\"Enter a number:\"))\n",
        "if num > 0:\n",
        "  print(\"number is positive\")\n",
        "elif num < 0:\n",
        "  print(\"number is negative\")\n",
        "else:\n",
        "  print(\"number is zero\")"
      ],
      "metadata": {
        "colab": {
          "base_uri": "https://localhost:8080/"
        },
        "id": "AR9l1H9w9PYA",
        "outputId": "94eedffc-d7e3-4622-b9ba-502253034355"
      },
      "execution_count": null,
      "outputs": [
        {
          "output_type": "stream",
          "name": "stdout",
          "text": [
            "Enter a number:5\n",
            "number is positive\n"
          ]
        }
      ]
    },
    {
      "cell_type": "markdown",
      "source": [
        "**12. Write a for loop to print numbers from 1 to 10.**"
      ],
      "metadata": {
        "id": "-O7RXInm_BEa"
      }
    },
    {
      "cell_type": "code",
      "source": [],
      "metadata": {
        "id": "V936lWvP_ZkA"
      },
      "execution_count": null,
      "outputs": []
    },
    {
      "cell_type": "code",
      "source": [
        "count=0\n",
        "for i in range(0,10):\n",
        "  i=i+1\n",
        "  print(i)"
      ],
      "metadata": {
        "colab": {
          "base_uri": "https://localhost:8080/"
        },
        "id": "UqZq2LEH_D6M",
        "outputId": "5ede29b8-4492-4972-af10-ac8600465efb"
      },
      "execution_count": null,
      "outputs": [
        {
          "output_type": "stream",
          "name": "stdout",
          "text": [
            "1\n",
            "2\n",
            "3\n",
            "4\n",
            "5\n",
            "6\n",
            "7\n",
            "8\n",
            "9\n",
            "10\n"
          ]
        }
      ]
    },
    {
      "cell_type": "markdown",
      "source": [
        "**13. Write a Python program to find the sum of all even numbers between 1 and 50.**"
      ],
      "metadata": {
        "id": "xP40oQLF_dGc"
      }
    },
    {
      "cell_type": "code",
      "source": [
        "count=0\n",
        "for i in range(1,51):\n",
        "  if i%2==0:\n",
        "      count+=i\n",
        "print(count)"
      ],
      "metadata": {
        "colab": {
          "base_uri": "https://localhost:8080/"
        },
        "id": "6jJHvpHC_hfJ",
        "outputId": "8d769e81-fb17-423f-bcdf-6ac2b7431c81"
      },
      "execution_count": null,
      "outputs": [
        {
          "output_type": "stream",
          "name": "stdout",
          "text": [
            "650\n"
          ]
        }
      ]
    },
    {
      "cell_type": "markdown",
      "source": [
        "**14. Write a program to reverse a string using a while loop**"
      ],
      "metadata": {
        "id": "3EDL58zaA4OL"
      }
    },
    {
      "cell_type": "code",
      "source": [
        "str=\"radar\"[ : :-1]\n",
        "print(str)\n"
      ],
      "metadata": {
        "colab": {
          "base_uri": "https://localhost:8080/"
        },
        "id": "GzSzEnUnA90k",
        "outputId": "09b29eb1-b42d-4293-b1fe-4af1c2629106"
      },
      "execution_count": null,
      "outputs": [
        {
          "output_type": "stream",
          "name": "stdout",
          "text": [
            "radar\n"
          ]
        }
      ]
    },
    {
      "cell_type": "markdown",
      "source": [
        "**15. Write a Python program to calculate the factorial of a number provided by the user using a while loop.**"
      ],
      "metadata": {
        "id": "j_Qak1FIB7bD"
      }
    },
    {
      "cell_type": "code",
      "source": [
        "num=int(input(\"enter a number to find the factorial:\"))\n",
        "fact=1\n",
        "if num < 0:\n",
        "  print(\"factorial of negative numbers does not exist\")\n",
        "elif num ==0:\n",
        "  print(\"fact of 0 is 1\")\n",
        "else:\n",
        "  while num > 0:\n",
        "    fact=fact*num\n",
        "    num=num-1\n",
        "print(\"the factorial of number is:\",fact)\n"
      ],
      "metadata": {
        "colab": {
          "base_uri": "https://localhost:8080/"
        },
        "id": "mNYNrV4UCFmd",
        "outputId": "e5e690a3-8303-4069-8a42-9b2e3479a543"
      },
      "execution_count": null,
      "outputs": [
        {
          "output_type": "stream",
          "name": "stdout",
          "text": [
            "enter a number to find the factorial:5\n",
            "the factorial of number is: 120\n"
          ]
        }
      ]
    }
  ]
}